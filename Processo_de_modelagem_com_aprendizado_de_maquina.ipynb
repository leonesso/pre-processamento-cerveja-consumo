{
  "cells": [
    {
      "cell_type": "markdown",
      "metadata": {
        "id": "view-in-github",
        "colab_type": "text"
      },
      "source": [
        "<a href=\"https://colab.research.google.com/github/leonesso/pre-processamento-cerveja-consumo/blob/main/Processo_de_modelagem_com_aprendizado_de_maquina.ipynb\" target=\"_parent\"><img src=\"https://colab.research.google.com/assets/colab-badge.svg\" alt=\"Open In Colab\"/></a>"
      ]
    },
    {
      "cell_type": "markdown",
      "metadata": {
        "id": "e4erywQ5WgpM"
      },
      "source": [
        "# Processo de modelagem com Machine Learning"
      ]
    },
    {
      "cell_type": "markdown",
      "metadata": {
        "id": "JMlLjAowWgpP"
      },
      "source": [
        "<img src = 'https://frnsys.com/assets/hosny/disparity.gif' width =600>"
      ]
    },
    {
      "cell_type": "markdown",
      "metadata": {
        "id": "0_7B3Rl4WgpP"
      },
      "source": [
        "\n",
        "Neste notebook vamos apresentar conceitos e códigos referentes a um processo de modelagem do inicio ao fim, testando o modelo desenvolvido.\n",
        "\n",
        "Esse processo utiliza das fases do CRISP-DM e serve como uma referência para outras modelagens.\n"
      ]
    },
    {
      "cell_type": "markdown",
      "metadata": {
        "id": "EXhDhboTWgpP"
      },
      "source": [
        "## Processo básico de modelagem\n",
        "\n",
        "É composto por 6 passos:\n",
        "\n",
        "* Fazer a pergunta certa\n",
        "* Preparar os dados\n",
        "* Selecionar o algoritmo\n",
        "* Treinar o modelo\n",
        "* Testar o modelo\n",
        "* Implementar o modelo"
      ]
    },
    {
      "cell_type": "markdown",
      "metadata": {
        "id": "tcOPer0DWgpP"
      },
      "source": [
        "### Preparando os dados"
      ]
    },
    {
      "cell_type": "markdown",
      "metadata": {
        "id": "CFF6xsNlWgpQ"
      },
      "source": [
        "\n",
        "Antes de iniciar a preparação dos dados necessitamos importar um conjunto de bibliotecas referente a criação de estruturas de dados, entendimento numérico dos tipos de dados além de bibliotecas gráficas.\n"
      ]
    },
    {
      "cell_type": "code",
      "execution_count": null,
      "metadata": {
        "id": "dpsim-yMWgpQ"
      },
      "outputs": [],
      "source": [
        "import numpy as np\n",
        "import pandas as pd\n",
        "import seaborn as sns\n",
        "import matplotlib.pyplot as plt\n",
        "%matplotlib inline\n",
        "\n",
        "plt.style.use('seaborn')"
      ]
    },
    {
      "cell_type": "markdown",
      "metadata": {
        "id": "vNkTJuGGWgpR"
      },
      "source": [
        "Agora vamos carregar uma base de dados sobre consumo de cerveja e analisar o quanto o clima impacta nisto"
      ]
    },
    {
      "cell_type": "markdown",
      "metadata": {
        "id": "bybRs9SOWgpR"
      },
      "source": [
        "<img src = 'https://media.giphy.com/media/42dsvcMDP3diU/giphy.gif' width=500>"
      ]
    },
    {
      "cell_type": "code",
      "execution_count": null,
      "metadata": {
        "id": "bHrLtdZrWgpR"
      },
      "outputs": [],
      "source": [
        "df_cerveja = pd.read_excel(\"beer_consumption.xlsx\")\n",
        "df_cerveja.head(10)"
      ]
    },
    {
      "cell_type": "markdown",
      "metadata": {
        "id": "6HNnfyU_WgpS"
      },
      "source": [
        "Vamos ver as estatísticas descritivas desta base"
      ]
    },
    {
      "cell_type": "code",
      "execution_count": null,
      "metadata": {
        "id": "_8orPjzUWgpS"
      },
      "outputs": [],
      "source": [
        "df_cerveja.describe()"
      ]
    },
    {
      "cell_type": "code",
      "execution_count": null,
      "metadata": {
        "id": "paD531O4WgpS"
      },
      "outputs": [],
      "source": [
        "df_cerveja.count()"
      ]
    },
    {
      "cell_type": "code",
      "execution_count": null,
      "metadata": {
        "id": "E6zVWt_mWgpT"
      },
      "outputs": [],
      "source": [
        "df_cerveja.corr()"
      ]
    },
    {
      "cell_type": "code",
      "execution_count": null,
      "metadata": {
        "id": "w_KK_-hqWgpT"
      },
      "outputs": [],
      "source": [
        "sns.heatmap(df_cerveja.corr())\n",
        "#sns.heatmap(df_cerveja.corr(), cmap='viridis')\n",
        "#sns.heatmap(df_cerveja.corr(), cmap='viridis', annot=True)"
      ]
    },
    {
      "cell_type": "markdown",
      "metadata": {
        "id": "JJQoZoQFWgpT"
      },
      "source": [
        "Não foram encontrados colunas correlacionadas o suficiente para removê-las."
      ]
    },
    {
      "cell_type": "markdown",
      "metadata": {
        "id": "z7W6IfnSWgpT"
      },
      "source": [
        "### Compreendendo relações e correlações de variáveis"
      ]
    },
    {
      "cell_type": "markdown",
      "metadata": {
        "id": "zGWsnMt4WgpT"
      },
      "source": [
        "sns.lmplot()"
      ]
    },
    {
      "cell_type": "code",
      "execution_count": null,
      "metadata": {
        "id": "OGxUaBldWgpT"
      },
      "outputs": [],
      "source": [
        "sns.lmplot(data=df_cerveja, x=\"beer_consumption\", y=\"temp_avg\",\n",
        "          scatter_kws={\"marker\":\"x\", \"color\":\"blue\"},\n",
        "          line_kws={\"linewidth\":1, \"color\": \"orange\"})"
      ]
    },
    {
      "cell_type": "code",
      "execution_count": null,
      "metadata": {
        "id": "4lEMiAcDWgpT"
      },
      "outputs": [],
      "source": [
        "sns.lmplot(data=df_cerveja, x=\"beer_consumption\", y=\"temp_max\",\n",
        "          scatter_kws={\"marker\":\"x\", \"color\":\"gray\"},\n",
        "          line_kws={\"linewidth\":1, \"color\": \"orange\"})"
      ]
    },
    {
      "cell_type": "code",
      "execution_count": null,
      "metadata": {
        "id": "P3fltM0vWgpU"
      },
      "outputs": [],
      "source": [
        "sns.lmplot(data=df_cerveja, x=\"precip\", y=\"beer_consumption\",\n",
        "          scatter_kws={\"marker\":\"x\", \"color\":\"green\"},\n",
        "          line_kws={\"linewidth\":1, \"color\": \"orange\"})"
      ]
    },
    {
      "cell_type": "markdown",
      "metadata": {
        "id": "nNpHeHg-WgpU"
      },
      "source": [
        "### Mapear dados em label para numéricos"
      ]
    },
    {
      "cell_type": "code",
      "execution_count": null,
      "metadata": {
        "id": "xEZ6_G4xcVB3"
      },
      "outputs": [],
      "source": [
        "df_cerveja.head()"
      ]
    },
    {
      "cell_type": "code",
      "execution_count": null,
      "metadata": {
        "id": "HxrGgqA5WgpU"
      },
      "outputs": [],
      "source": [
        "# Categorização\n",
        "class_weekend = {True: 1, False: 0}\n",
        "df_cerveja[\"weekend\"] = df_cerveja[\"weekend\"].map(class_weekend)"
      ]
    },
    {
      "cell_type": "code",
      "execution_count": null,
      "metadata": {
        "id": "SQVRg1n4WgpU"
      },
      "outputs": [],
      "source": [
        "df_cerveja.head(5)"
      ]
    },
    {
      "cell_type": "markdown",
      "metadata": {
        "id": "mPZcxJc3WgpU"
      },
      "source": [
        "### Busca por dados nulos e inválidos"
      ]
    },
    {
      "cell_type": "code",
      "execution_count": null,
      "metadata": {
        "id": "Gjyu6qIwWgpU"
      },
      "outputs": [],
      "source": [
        "df_cerveja.isnull().any()"
      ]
    },
    {
      "cell_type": "code",
      "execution_count": null,
      "metadata": {
        "id": "mnb-wmo0WgpV"
      },
      "outputs": [],
      "source": [
        "df_cerveja[df_cerveja[\"temp_avg\"].isnull()]"
      ]
    },
    {
      "cell_type": "code",
      "execution_count": null,
      "metadata": {
        "id": "CXwmSy7uWgpV"
      },
      "outputs": [],
      "source": [
        "df_cerveja[df_cerveja[\"temp_min\"].isnull()]"
      ]
    },
    {
      "cell_type": "code",
      "execution_count": null,
      "metadata": {
        "id": "UdN6ecbcWgpV"
      },
      "outputs": [],
      "source": [
        "df_cerveja[df_cerveja[\"temp_max\"].isnull()]"
      ]
    },
    {
      "cell_type": "code",
      "execution_count": null,
      "metadata": {
        "id": "DpLllqRNWgpV"
      },
      "outputs": [],
      "source": [
        "df_cerveja[df_cerveja[\"weekend\"].isnull()]"
      ]
    },
    {
      "cell_type": "markdown",
      "metadata": {
        "id": "8fRVpiFOWgpV"
      },
      "source": [
        "Temperatura média pode ser calculada entre a temperatura máxima e mínima"
      ]
    },
    {
      "cell_type": "code",
      "execution_count": null,
      "metadata": {
        "id": "ZrFxltHnWgpV"
      },
      "outputs": [],
      "source": [
        "df_cerveja_temp_avg_null = df_cerveja[df_cerveja[\"temp_avg\"].isnull()].copy()\n",
        "df_cerveja_temp_avg_null"
      ]
    },
    {
      "cell_type": "code",
      "execution_count": null,
      "metadata": {
        "id": "UCJuXsFFWgpV"
      },
      "outputs": [],
      "source": [
        "df_cerveja_temp_avg_null[\"temp_avg\"] = (df_cerveja[\"temp_max\"] + df_cerveja[\"temp_min\"])/2\n",
        "df_cerveja_temp_avg_null"
      ]
    },
    {
      "cell_type": "code",
      "execution_count": null,
      "metadata": {
        "id": "tdWwuxB_NYYi"
      },
      "outputs": [],
      "source": [
        "# outra forma de retornar a média da coluna\n",
        "df_cerveja[\"temp_avg\"].mean()"
      ]
    },
    {
      "cell_type": "code",
      "execution_count": null,
      "metadata": {
        "id": "my_3vRPlWgpV"
      },
      "outputs": [],
      "source": [
        "# df_cerveja[\"temp_avg\"] = df_cerveja[\"temp_avg\"].replace(np.nan,(df_cerveja[\"temp_max\"] + df_cerveja[\"temp_min\"])/2)\n",
        "df_cerveja[\"temp_avg\"] = df_cerveja[\"temp_avg\"].replace(np.nan,df_cerveja[\"temp_avg\"].mean())"
      ]
    },
    {
      "cell_type": "code",
      "execution_count": null,
      "metadata": {
        "id": "5I5hsV8sWgpW"
      },
      "outputs": [],
      "source": [
        "df_cerveja.loc[[168,181,309,314]]"
      ]
    },
    {
      "cell_type": "code",
      "execution_count": null,
      "metadata": {
        "id": "277OZWijWgpW"
      },
      "outputs": [],
      "source": [
        "df_cerveja[\"temp_min\"] = df_cerveja[\"temp_min\"].replace(np.nan,df_cerveja[\"temp_min\"].mean())"
      ]
    },
    {
      "cell_type": "code",
      "execution_count": null,
      "metadata": {
        "id": "d4G3IEymWgpW"
      },
      "outputs": [],
      "source": [
        "df_cerveja.loc[[7,116]]"
      ]
    },
    {
      "cell_type": "code",
      "execution_count": null,
      "metadata": {
        "id": "KPHntiKCWgpW"
      },
      "outputs": [],
      "source": [
        "df_cerveja.loc[[98, 165, 237]]"
      ]
    },
    {
      "cell_type": "code",
      "execution_count": null,
      "metadata": {
        "id": "mkI4rzYEWgpX"
      },
      "outputs": [],
      "source": [
        "df_cerveja[\"temp_max\"] = df_cerveja[\"temp_max\"].replace(np.nan, df_cerveja[\"temp_max\"].mean())"
      ]
    },
    {
      "cell_type": "code",
      "execution_count": null,
      "metadata": {
        "id": "SQKl0akHWgpX"
      },
      "outputs": [],
      "source": [
        "df_cerveja.loc[[98, 165, 237]]"
      ]
    },
    {
      "cell_type": "code",
      "execution_count": null,
      "metadata": {
        "id": "j8a4SsH6OmgP"
      },
      "outputs": [],
      "source": [
        "# calcular a moda do final de semana\n",
        "df_cerveja[\"weekend\"].mode()"
      ]
    },
    {
      "cell_type": "code",
      "execution_count": null,
      "metadata": {
        "id": "ZULas0mqWgpX"
      },
      "outputs": [],
      "source": [
        "df_cerveja[\"weekend\"] = df_cerveja[\"weekend\"].replace(np.nan, df_cerveja[\"weekend\"].mode()[0])"
      ]
    },
    {
      "cell_type": "code",
      "execution_count": null,
      "metadata": {
        "id": "HkYijJ6WWgpY"
      },
      "outputs": [],
      "source": [
        "df_cerveja.loc[[21,27]]"
      ]
    },
    {
      "cell_type": "code",
      "execution_count": null,
      "metadata": {
        "id": "TMTzrXlpWgpY"
      },
      "outputs": [],
      "source": [
        "df_cerveja.isnull().any()"
      ]
    },
    {
      "cell_type": "markdown",
      "metadata": {
        "id": "9UKqFIR9WgpY"
      },
      "source": [
        "**Verifcar ocorrência de números iguais a 0, que seria inválido**"
      ]
    },
    {
      "cell_type": "code",
      "execution_count": null,
      "metadata": {
        "id": "ZiCvVM1rWgpY"
      },
      "outputs": [],
      "source": [
        "(df_cerveja == 0).any()"
      ]
    },
    {
      "cell_type": "code",
      "execution_count": null,
      "metadata": {
        "id": "N_oKqzWGWgpY"
      },
      "outputs": [],
      "source": [
        "df_cerveja[df_cerveja[\"temp_avg\"] == 0]"
      ]
    },
    {
      "cell_type": "code",
      "execution_count": null,
      "metadata": {
        "id": "-t79OP5BWgpZ"
      },
      "outputs": [],
      "source": [
        "df_cerveja[df_cerveja[\"temp_min\"] == 0]"
      ]
    },
    {
      "cell_type": "code",
      "execution_count": null,
      "metadata": {
        "id": "Znd2WtcaWgpZ"
      },
      "outputs": [],
      "source": [
        "df_cerveja[df_cerveja[\"temp_max\"] == 0]"
      ]
    },
    {
      "cell_type": "code",
      "execution_count": null,
      "metadata": {
        "id": "RrHJT58GjNQL"
      },
      "outputs": [],
      "source": [
        "df_cerveja.shape"
      ]
    },
    {
      "cell_type": "code",
      "execution_count": null,
      "metadata": {
        "id": "M9OPLb2oWgpZ"
      },
      "outputs": [],
      "source": [
        "df_cerveja[df_cerveja[\"precip\"] == 0].head(10)"
      ]
    },
    {
      "cell_type": "code",
      "execution_count": null,
      "metadata": {
        "id": "JO_POO-AWgpZ"
      },
      "outputs": [],
      "source": [
        "df_cerveja[df_cerveja[\"weekend\"] == 0].head(10)\n",
        "#df_cerveja[df_cerveja[\"weekend\"] == 0].head(10).sort_values(by='data', ascending=False)"
      ]
    },
    {
      "cell_type": "markdown",
      "metadata": {
        "id": "mt-Q5G1AWgpZ"
      },
      "source": [
        "Precipitação e Weekend podem ser igual a 0."
      ]
    },
    {
      "cell_type": "markdown",
      "metadata": {
        "id": "fm43LbgkWgpZ"
      },
      "source": [
        "Utilizar mesma estratégia anterior para os demais atributos."
      ]
    },
    {
      "cell_type": "code",
      "execution_count": null,
      "metadata": {
        "id": "BxWDHfnnWgpZ"
      },
      "outputs": [],
      "source": [
        "df_cerveja[\"temp_avg\"] = df_cerveja[\"temp_avg\"].replace(0, df_cerveja[\"temp_avg\"].mean())"
      ]
    },
    {
      "cell_type": "code",
      "execution_count": null,
      "metadata": {
        "id": "oKF4Q7fCjvqu"
      },
      "outputs": [],
      "source": [
        "df_cerveja[\"temp_min\"] = df_cerveja[\"temp_min\"].replace(0, df_cerveja[\"temp_min\"].mean())"
      ]
    },
    {
      "cell_type": "code",
      "execution_count": null,
      "metadata": {
        "id": "hyKr-a8xjwBJ"
      },
      "outputs": [],
      "source": [
        "df_cerveja[\"temp_max\"] = df_cerveja[\"temp_max\"].replace(0, df_cerveja[\"temp_max\"].mean())"
      ]
    },
    {
      "cell_type": "code",
      "execution_count": null,
      "metadata": {
        "id": "blrZ8QhJWgpa"
      },
      "outputs": [],
      "source": [
        "(df_cerveja == 0).any()"
      ]
    },
    {
      "cell_type": "markdown",
      "metadata": {
        "id": "_Zy0n3SfWgpa"
      },
      "source": [
        "### Separando dados de treinamento e teste"
      ]
    },
    {
      "cell_type": "code",
      "execution_count": null,
      "metadata": {
        "id": "7YlfTSaKWgpa"
      },
      "outputs": [],
      "source": [
        "from sklearn.model_selection import train_test_split\n",
        "\n",
        "feature_col_names = ['temp_max', 'precip', 'weekend']\n",
        "predicted_class_names = ['beer_consumption']\n",
        "\n",
        "X = df_cerveja[feature_col_names].values\n",
        "y = df_cerveja[predicted_class_names].values\n",
        "split_test_size = 0.30\n",
        "\n",
        "X_train, X_test, y_train, y_test = train_test_split(X, y, test_size=split_test_size, random_state=42)"
      ]
    },
    {
      "cell_type": "code",
      "execution_count": null,
      "metadata": {
        "id": "jI8LbFiFWgpa"
      },
      "outputs": [],
      "source": [
        "print(\"{0:0.2f}% in training set\".format((len(X_train)/len(df_cerveja.index)) * 100))\n",
        "print(\"{0:0.2f}% in test set\".format((len(X_test)/len(df_cerveja.index)) * 100))"
      ]
    },
    {
      "cell_type": "code",
      "execution_count": null,
      "metadata": {
        "id": "MOj301E6Wgpa"
      },
      "outputs": [],
      "source": [
        "from sklearn import linear_model\n",
        "\n",
        "lr_model = linear_model.LinearRegression()\n",
        "lr_model.fit(X_train, y_train.ravel())"
      ]
    },
    {
      "cell_type": "markdown",
      "metadata": {
        "id": "6s6NkDFWWgpa"
      },
      "source": [
        "Testando valores par verificar a performance"
      ]
    },
    {
      "cell_type": "code",
      "execution_count": null,
      "metadata": {
        "id": "AUSWUx_vWgpa"
      },
      "outputs": [],
      "source": [
        "from sklearn.metrics import mean_squared_error, r2_score\n",
        "\n",
        "y_pred = lr_model.predict(X_test)\n",
        "\n",
        "print('R2 score: %.2f' % r2_score(y_test, y_pred))\n",
        "print('R2 score: %.2f' % lr_model.score(X_test, y_test))"
      ]
    },
    {
      "cell_type": "markdown",
      "metadata": {
        "id": "E7rQ_iXkWgpb"
      },
      "source": [
        "R2 score está na faixa esperada de >= 70%"
      ]
    },
    {
      "cell_type": "markdown",
      "metadata": {
        "id": "67IaWgghWgpb"
      },
      "source": [
        "Simulação de um caso onde se espera maior consumo, clima quente, 35 graus C, sem chuva e é final de semana."
      ]
    },
    {
      "cell_type": "code",
      "execution_count": null,
      "metadata": {
        "id": "jFCw1mg3Wgpb"
      },
      "outputs": [],
      "source": [
        "predict_value = [[35, 0, 1]]\n",
        "lr_model.predict(predict_value)"
      ]
    },
    {
      "cell_type": "markdown",
      "metadata": {
        "id": "pIABJMdjWgpb"
      },
      "source": [
        "Simulação de um caso onde se espera um consumo menor que o de cima, clima quente, 35 graus C, sem chuva mas em dia de semana."
      ]
    },
    {
      "cell_type": "code",
      "execution_count": null,
      "metadata": {
        "id": "VEBXMZmiWgpb"
      },
      "outputs": [],
      "source": [
        "predict_value = [[35, 0, 0]]\n",
        "lr_model.predict(predict_value)"
      ]
    },
    {
      "cell_type": "markdown",
      "metadata": {
        "id": "7ThLl7dOWgpb"
      },
      "source": [
        "Simulação de um caso onde se espera um consumo menor que o de cima, clima quente, 35 graus C, com chuva e em dia de semana."
      ]
    },
    {
      "cell_type": "code",
      "execution_count": null,
      "metadata": {
        "id": "lAQfWvWiWgpb"
      },
      "outputs": [],
      "source": [
        "predict_value = [[35, 20, 0]]\n",
        "lr_model.predict(predict_value)"
      ]
    },
    {
      "cell_type": "markdown",
      "metadata": {
        "id": "hzg2SGoWWgpb"
      },
      "source": [
        "Pior cenário, baixo consumo, frio (10 graus C), chovendo e em dia de semana."
      ]
    },
    {
      "cell_type": "code",
      "execution_count": null,
      "metadata": {
        "id": "NXyq1P3uWgpb"
      },
      "outputs": [],
      "source": [
        "predict_value = [[10, 20, 0]]\n",
        "lr_model.predict(predict_value)"
      ]
    },
    {
      "cell_type": "markdown",
      "metadata": {
        "id": "D4Pg6M8oWgpc"
      },
      "source": [
        "### Salvando modelo"
      ]
    },
    {
      "cell_type": "code",
      "execution_count": null,
      "metadata": {
        "id": "uTGxc-s6Wgpc"
      },
      "outputs": [],
      "source": [
        "#from sklearn.externals import joblib\n",
        "import joblib\n",
        "joblib.dump(lr_model, 'lr_model.pkl')"
      ]
    },
    {
      "cell_type": "code",
      "execution_count": null,
      "metadata": {
        "id": "pdalDKhqWgpc"
      },
      "outputs": [],
      "source": [
        "lr_carregar_modelo = joblib.load('lr_model.pkl')"
      ]
    },
    {
      "cell_type": "code",
      "execution_count": null,
      "metadata": {
        "id": "g7E0QgutWgpc"
      },
      "outputs": [],
      "source": [
        "novos_valores = [[10, 20, 0]]\n",
        "lr_carregar_modelo.predict(novos_valores)"
      ]
    }
  ],
  "metadata": {
    "colab": {
      "provenance": [],
      "include_colab_link": true
    },
    "kernelspec": {
      "display_name": "Python 3",
      "language": "python",
      "name": "python3"
    },
    "language_info": {
      "codemirror_mode": {
        "name": "ipython",
        "version": 3
      },
      "file_extension": ".py",
      "mimetype": "text/x-python",
      "name": "python",
      "nbconvert_exporter": "python",
      "pygments_lexer": "ipython3",
      "version": "3.6.4"
    }
  },
  "nbformat": 4,
  "nbformat_minor": 0
}